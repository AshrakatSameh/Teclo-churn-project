{
 "cells": [
  {
   "cell_type": "code",
   "execution_count": 141,
   "id": "455d4a1d",
   "metadata": {},
   "outputs": [],
   "source": [
    "import numpy as np\n",
    "import pandas as pd\n",
    "import joblib "
   ]
  },
  {
   "cell_type": "code",
   "execution_count": 171,
   "id": "109b658b",
   "metadata": {},
   "outputs": [],
   "source": [
    "def pre_gender(gender):\n",
    "    if gender == 'Female':\n",
    "        return 0\n",
    "    elif gender == 'Male':\n",
    "        return 1\n",
    "    \n",
    "\n",
    "def pre_SeniorCitizen(SeniorCitizen):\n",
    "    if SeniorCitizen == 'Yes':\n",
    "        return 1\n",
    "    elif SeniorCitizen =='No':\n",
    "        return 0\n",
    "    \n",
    "    \n",
    "def pre_Partner(Partner):\n",
    "    if Partner== 'Yes':\n",
    "        return 1\n",
    "    elif Partner==\"No\":\n",
    "        return 0\n",
    "    \n",
    "\n",
    "def pre_Dependents(Dependents):\n",
    "    if Dependents== 'Yes':\n",
    "        return 1\n",
    "    elif Dependents == 'No':\n",
    "        return 0\n",
    "    \n",
    "    \n",
    "\n",
    "    \n",
    "    \n",
    "    \n",
    "def pre_PhoneService(PhoneService):\n",
    "    if PhoneService ==\"Yes\":\n",
    "        return 1\n",
    "    elif PhoneService == 'No':\n",
    "        return 0\n",
    "    \n",
    "    \n",
    "def pre_PaperlessBilling (PaperlessBilling):\n",
    "    if PaperlessBilling  == 'Yes':\n",
    "        return 1\n",
    "    elif PaperlessBilling == 'No':\n",
    "        return 0\n",
    "    \n",
    "    \n",
    "def pre_MultipleLines(MultipleLines):\n",
    "    if MultipleLines == 'Yes':\n",
    "        return [0, 0, 1]\n",
    "    elif MultipleLines =='No':\n",
    "        return [1, 0, 0]\n",
    "    elif MultipleLines == 'No phone service':\n",
    "        return [0, 1 , 0]\n",
    "    \n",
    "    \n",
    "def pre_InternetService(InternetService):\n",
    "    if InternetService == 'DSL':\n",
    "        return [1, 0 ,0]\n",
    "    elif InternetService == 'Fiber optic':\n",
    "        return [0, 1 ,0]\n",
    "    \n",
    "    elif InternetService == 'No':\n",
    "        return [0, 0, 1]\n",
    "    \n",
    "    \n",
    "def pre_OnlineSecurity(OnlineSecurity):\n",
    "    if OnlineSecurity == 'Yes':\n",
    "        return [0, 0, 1]\n",
    "    elif OnlineSecurity == 'No':\n",
    "        return [1, 0, 0]\n",
    "    elif OnlineSecurity== 'No internet service':\n",
    "        return [0, 1,0]\n",
    "    \n",
    "def pre_OnlineBackup(OnlineBackup):\n",
    "    if OnlineBackup == 'Yes':\n",
    "        return [0,0, 1]\n",
    "    elif OnlineBackup == 'No':\n",
    "        return [1, 0, 0]\n",
    "    elif OnlineBackup== 'No internet service':\n",
    "        return [0, 1, 0]\n",
    "    \n",
    "def pre_DeviceProtection(DeviceProtection):\n",
    "    if DeviceProtection == 'Yes':\n",
    "        return [0,0,1]\n",
    "    elif DeviceProtection == 'No':\n",
    "        return [1,0,0]\n",
    "    elif DeviceProtection == 'No internet service':\n",
    "        return [0,1,0]\n",
    "    \n",
    "def pre_TechSupport(TechSupport):\n",
    "    if TechSupport == 'Yes':\n",
    "        return [0,0,1]\n",
    "    elif TechSupport == 'No':\n",
    "        return [1,0,0]\n",
    "    elif TechSupport == 'No internet service':\n",
    "        return [0,1,0]\n",
    "    \n",
    "    \n",
    "def pre_StreamingTV(StreamingTV):\n",
    "    if StreamingTV == 'Yes':\n",
    "        return [0,0,1]\n",
    "    elif StreamingTV == 'No':\n",
    "        return [1,0,0]\n",
    "    elif StreamingTV == 'No internet service':\n",
    "        return [0,1,0]\n",
    "    \n",
    "    \n",
    "def pre_StreamingMovies(StreamingMovies):\n",
    "    if StreamingMovies =='Yes':\n",
    "        return [0,0,1]\n",
    "    elif StreamingMovies =='No':\n",
    "        return [1,0,0]\n",
    "    elif StreamingMovies =='No internet service':\n",
    "        return [0,1,0]\n",
    "    \n",
    "\n",
    "def pre_Contract(Contract):\n",
    "    if Contract =='Month-to-month':\n",
    "        return [1,0,0]\n",
    "    elif Contract =='One year':\n",
    "        return [0,1,0]\n",
    "    elif Contract == 'Two year':\n",
    "        return [0,0,1]\n",
    "    \n",
    "    \n",
    "def pre_PaperlessBilling(PaperlessBilling):\n",
    "    if PaperlessBilling ==\"Yes\":\n",
    "        return 1\n",
    "    elif PaperlessBilling ==\"No\":\n",
    "        return 0\n",
    "    \n",
    "def pre_PaymentMethod(PaymentMethod):\n",
    "    if PaymentMethod == 'Mailed check':\n",
    "        return [0,0,0,1]\n",
    "    elif PaymentMethod == 'Bank transfer (automatic)':\n",
    "        return [1,0,0,0]\n",
    "    elif PaymentMethod == 'Credit card (automatic)':\n",
    "        return [0,1,0,0]\n",
    "    elif PaymentMethod =='Electronic check':\n",
    "        return [0,0,1,0]\n",
    "    \n",
    "\n",
    "\n",
    "    \n",
    "    \n",
    "     "
   ]
  },
  {
   "cell_type": "code",
   "execution_count": null,
   "id": "9f6abfab",
   "metadata": {},
   "outputs": [],
   "source": [
    "x= ['gender', 'SeniorCitizen', 'Partner', 'Dependents', 'tenure',\n",
    "       'PhoneService', 'PaperlessBilling', 'MonthlyCharges', 'TotalCharges',\n",
    "       'Contract_Month-to-month', 'Contract_One year', 'Contract_Two year',\n",
    "       'PaymentMethod_Bank transfer (automatic)',\n",
    "       'PaymentMethod_Credit card (automatic)',\n",
    "       'PaymentMethod_Electronic check', 'PaymentMethod_Mailed check',\n",
    "       'MultipleLines_No', 'MultipleLines_No phone service',\n",
    "       'MultipleLines_Yes', 'InternetService_DSL',\n",
    "       'InternetService_Fiber optic', 'InternetService_No',\n",
    "       'OnlineSecurity_No', 'OnlineSecurity_No internet service',\n",
    "       'OnlineSecurity_Yes', 'OnlineBackup_No',\n",
    "       'OnlineBackup_No internet service', 'OnlineBackup_Yes',\n",
    "       'DeviceProtection_No', 'DeviceProtection_No internet service',\n",
    "       'DeviceProtection_Yes', 'TechSupport_No',\n",
    "       'TechSupport_No internet service', 'TechSupport_Yes', 'StreamingTV_No',\n",
    "       'StreamingTV_No internet service', 'StreamingTV_Yes',\n",
    "       'StreamingMovies_No', 'StreamingMovies_No internet service',\n",
    "       'StreamingMovies_Yes']"
   ]
  },
  {
   "cell_type": "code",
   "execution_count": 173,
   "id": "3d9472d8",
   "metadata": {},
   "outputs": [],
   "source": [
    "def preprocess_data(data):\n",
    "    gender =  pre_gender(data['gender'])\n",
    "    SeniorCitizen = pre_SeniorCitizen(data['SeniorCitizen'])\n",
    "    Partner = pre_Partner(data['Partner'])\n",
    "    Dependents = pre_Dependents(data['Dependents'])\n",
    "    tenure = data['tenure']\n",
    "    PhoneService = pre_PhoneService(data['PhoneService'])\n",
    "    PaperlessBilling = pre_PaperlessBilling (data['PaperlessBilling'])\n",
    "    MonthlyCharges = data['MonthlyCharges']\n",
    "    TotalCharges = data['TotalCharges']\n",
    "    Contract = pre_Contract(data['Contract'])\n",
    "    PaymentMethod = pre_PaymentMethod(data['PaymentMethod'])\n",
    "    MultipleLines = pre_MultipleLines(data['MultipleLines'])\n",
    "    InternetService = pre_InternetService(data['InternetService'])\n",
    "    OnlineSecurity = pre_OnlineSecurity(data['OnlineSecurity'])\n",
    "    OnlineBackup = pre_OnlineBackup(data['OnlineBackup'])\n",
    "    DeviceProtection= pre_DeviceProtection(data['DeviceProtection'])\n",
    "    TechSupport = pre_TechSupport(data['TechSupport'])\n",
    "    StreamingTV = pre_StreamingTV(data['StreamingTV'])\n",
    "    StreamingMovies = pre_StreamingMovies(data['StreamingMovies'])\n",
    "    \n",
    "    final_data = [gender] + [SeniorCitizen] + [Partner] + [Dependents] +  [tenure] + [PhoneService]+ [PaperlessBilling]+ [MonthlyCharges ,TotalCharges]+ Contract + PaymentMethod + MultipleLines+ InternetService+ OnlineSecurity+ OnlineBackup+ DeviceProtection+TechSupport+ StreamingTV+ StreamingMovies\n",
    "    \n",
    "    return final_data"
   ]
  },
  {
   "cell_type": "code",
   "execution_count": null,
   "id": "01a0c8a6",
   "metadata": {},
   "outputs": [],
   "source": []
  },
  {
   "cell_type": "code",
   "execution_count": 174,
   "id": "5a1d6973",
   "metadata": {},
   "outputs": [],
   "source": [
    "data ={'gender': 'Male', 'SeniorCitizen' : 'No','Partner': 'Yes',  'Dependents': 'No', 'tenure': 48 , 'PhoneService': 'Yes', 'PaperlessBilling': 'No', 'MonthlyCharges': 35, 'TotalCharges': 500, 'Contract':'Month-to-month', 'PaymentMethod': 'Bank transfer (automatic)', 'MultipleLines':'No','InternetService': 'DSL', 'OnlineSecurity':'No', 'OnlineBackup':'Yes', 'DeviceProtection':'Yes', 'TechSupport': 'Yes', 'StreamingTV':'No', 'StreamingMovies':'No'}"
   ]
  },
  {
   "cell_type": "code",
   "execution_count": 175,
   "id": "d0c555a8",
   "metadata": {
    "scrolled": true
   },
   "outputs": [
    {
     "data": {
      "text/plain": [
       "[1,\n",
       " 0,\n",
       " 1,\n",
       " 0,\n",
       " 48,\n",
       " 1,\n",
       " 0,\n",
       " 35,\n",
       " 500,\n",
       " 1,\n",
       " 0,\n",
       " 0,\n",
       " 1,\n",
       " 0,\n",
       " 0,\n",
       " 0,\n",
       " 1,\n",
       " 0,\n",
       " 0,\n",
       " 1,\n",
       " 0,\n",
       " 0,\n",
       " 1,\n",
       " 0,\n",
       " 0,\n",
       " 0,\n",
       " 0,\n",
       " 1,\n",
       " 0,\n",
       " 0,\n",
       " 1,\n",
       " 0,\n",
       " 0,\n",
       " 1,\n",
       " 1,\n",
       " 0,\n",
       " 0,\n",
       " 1,\n",
       " 0,\n",
       " 0]"
      ]
     },
     "execution_count": 175,
     "metadata": {},
     "output_type": "execute_result"
    }
   ],
   "source": [
    "final_data = preprocess_data(data)\n",
    "final_data"
   ]
  },
  {
   "cell_type": "code",
   "execution_count": 176,
   "id": "13da03da",
   "metadata": {},
   "outputs": [],
   "source": [
    "model = joblib.load('model.h5')\n",
    "scaler = joblib.load('scaler.h5')"
   ]
  },
  {
   "cell_type": "code",
   "execution_count": 177,
   "id": "1ba19bd3",
   "metadata": {},
   "outputs": [],
   "source": [
    "final_data= scaler.transform([final_data])"
   ]
  },
  {
   "cell_type": "code",
   "execution_count": 178,
   "id": "5c9f8d01",
   "metadata": {},
   "outputs": [
    {
     "data": {
      "text/plain": [
       "array([[ 0.98780765, -0.43787817,  1.03418394, -0.65423804,  0.64137819,\n",
       "         0.32920265, -1.20634146, -0.98849642, -0.78130922,  0.89539358,\n",
       "        -0.51053448, -0.55921265,  1.90017255, -0.53094745, -0.71050363,\n",
       "        -0.54303729,  1.03418394, -0.32920265, -0.84925628,  1.36316973,\n",
       "        -0.87907352, -0.5221345 ,  1.00516891, -0.5221345 , -0.63655016,\n",
       "        -0.89636078, -0.5221345 ,  1.39243365, -0.89442719, -0.5221345 ,\n",
       "         1.38913192, -0.99238455, -0.5221345 ,  1.56621795,  1.21347743,\n",
       "        -0.5221345 , -0.78509828,  1.22565256, -0.5221345 , -0.7931067 ]])"
      ]
     },
     "execution_count": 178,
     "metadata": {},
     "output_type": "execute_result"
    }
   ],
   "source": [
    "final_data"
   ]
  },
  {
   "cell_type": "code",
   "execution_count": 179,
   "id": "75fd614c",
   "metadata": {},
   "outputs": [
    {
     "data": {
      "text/plain": [
       "array([0], dtype=uint8)"
      ]
     },
     "execution_count": 179,
     "metadata": {},
     "output_type": "execute_result"
    }
   ],
   "source": [
    "model.predict(final_data)"
   ]
  },
  {
   "cell_type": "code",
   "execution_count": null,
   "id": "5fb15eec",
   "metadata": {},
   "outputs": [],
   "source": []
  }
 ],
 "metadata": {
  "kernelspec": {
   "display_name": "Python 3 (ipykernel)",
   "language": "python",
   "name": "python3"
  },
  "language_info": {
   "codemirror_mode": {
    "name": "ipython",
    "version": 3
   },
   "file_extension": ".py",
   "mimetype": "text/x-python",
   "name": "python",
   "nbconvert_exporter": "python",
   "pygments_lexer": "ipython3",
   "version": "3.9.7"
  }
 },
 "nbformat": 4,
 "nbformat_minor": 5
}
